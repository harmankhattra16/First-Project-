{
  "nbformat": 4,
  "nbformat_minor": 0,
  "metadata": {
    "colab": {
      "provenance": [],
      "authorship_tag": "ABX9TyMh1A5+UOvdXuuzpFeFMrWW",
      "include_colab_link": true
    },
    "kernelspec": {
      "name": "python3",
      "display_name": "Python 3"
    },
    "language_info": {
      "name": "python"
    }
  },
  "cells": [
    {
      "cell_type": "markdown",
      "metadata": {
        "id": "view-in-github",
        "colab_type": "text"
      },
      "source": [
        "<a href=\"https://colab.research.google.com/github/harmankhattra16/First-Project-/blob/main/pythonnotebook.ipynb\" target=\"_parent\"><img src=\"https://colab.research.google.com/assets/colab-badge.svg\" alt=\"Open In Colab\"/></a>"
      ]
    },
    {
      "cell_type": "markdown",
      "source": [
        "---\n",
        "### **Q1. L is a list defined as L= [11, 12, 13, 14].**\n",
        "---"
      ],
      "metadata": {
        "id": "vellFSfnHzYP"
      }
    },
    {
      "cell_type": "markdown",
      "source": [
        "(i) WAP to add 50 and 60 to L."
      ],
      "metadata": {
        "id": "2CcpGhSaItoO"
      }
    },
    {
      "cell_type": "code",
      "execution_count": 4,
      "metadata": {
        "colab": {
          "base_uri": "https://localhost:8080/"
        },
        "id": "TZHUgTtyGIzy",
        "outputId": "ffcfbd6a-f231-437b-96df-2c7261015499"
      },
      "outputs": [
        {
          "output_type": "stream",
          "name": "stdout",
          "text": [
            "After adding 50 and 60: [11, 12, 13, 14, 50, 60]\n"
          ]
        }
      ],
      "source": [
        "L = [11,12,13,14]\n",
        "L.append(50)\n",
        "L.append(60)\n",
        "print(\"After adding 50 and 60:\", L)\n"
      ]
    },
    {
      "cell_type": "markdown",
      "source": [
        "(ii) WAP to remove 11 and 13 from L."
      ],
      "metadata": {
        "id": "NHGQ9thOJFI0"
      }
    },
    {
      "cell_type": "code",
      "source": [
        "L = [11,12,13,14]\n",
        "L.remove(11)\n",
        "L.remove(13)\n",
        "print(\"After removing 11 and 13:\", L)"
      ],
      "metadata": {
        "colab": {
          "base_uri": "https://localhost:8080/"
        },
        "id": "AG_1os4TKdGx",
        "outputId": "dc69075b-a388-464c-bbbe-fae0f2f3ed04"
      },
      "execution_count": 3,
      "outputs": [
        {
          "output_type": "stream",
          "name": "stdout",
          "text": [
            "After removing 11 and 13: [12, 14]\n"
          ]
        }
      ]
    },
    {
      "cell_type": "markdown",
      "source": [
        "(iii) WAP to sort L in ascending order."
      ],
      "metadata": {
        "id": "WlFdyhIfK_X4"
      }
    },
    {
      "cell_type": "code",
      "source": [
        "L.sort()\n",
        "print(\"Sorted in ascending order:\", L)"
      ],
      "metadata": {
        "colab": {
          "base_uri": "https://localhost:8080/"
        },
        "id": "SlbKpk7ALGWN",
        "outputId": "1c570dd3-2fe0-4a7d-bb77-0d40593987ba"
      },
      "execution_count": 5,
      "outputs": [
        {
          "output_type": "stream",
          "name": "stdout",
          "text": [
            "Sorted in ascending order: [11, 12, 13, 14, 50, 60]\n"
          ]
        }
      ]
    },
    {
      "cell_type": "markdown",
      "source": [
        "(iv) WAP to sort L in descending order.\n"
      ],
      "metadata": {
        "id": "awstHy0YLpk3"
      }
    },
    {
      "cell_type": "code",
      "source": [
        "L.sort(reverse=True)\n",
        "print(\"Sorted in descending order:\", L)"
      ],
      "metadata": {
        "colab": {
          "base_uri": "https://localhost:8080/"
        },
        "id": "UplDchD6Ls6k",
        "outputId": "029a65fd-ac23-4858-91bc-2711259671b5"
      },
      "execution_count": 7,
      "outputs": [
        {
          "output_type": "stream",
          "name": "stdout",
          "text": [
            "Sorted in descending order: [60, 50, 14, 13, 12, 11]\n"
          ]
        }
      ]
    },
    {
      "cell_type": "markdown",
      "source": [
        "(v) WAP to search for 13 in L."
      ],
      "metadata": {
        "id": "8sY2aUwVMPQO"
      }
    },
    {
      "cell_type": "code",
      "source": [
        "if 13 in L:\n",
        "    print(\"13 is found in the list.\")\n",
        "else:\n",
        "    print(\"13 is not found in the list.\")"
      ],
      "metadata": {
        "colab": {
          "base_uri": "https://localhost:8080/"
        },
        "id": "d3911XH-MRk_",
        "outputId": "de64ddda-608f-4162-9a0c-6fd937c8fd78"
      },
      "execution_count": 8,
      "outputs": [
        {
          "output_type": "stream",
          "name": "stdout",
          "text": [
            "13 is found in the list.\n"
          ]
        }
      ]
    },
    {
      "cell_type": "markdown",
      "source": [
        "(vi) WAP to count the number of elements present in L"
      ],
      "metadata": {
        "id": "3cAhoa5dMbHQ"
      }
    },
    {
      "cell_type": "code",
      "source": [
        "print(\"Number of elements in L:\", len(L))"
      ],
      "metadata": {
        "colab": {
          "base_uri": "https://localhost:8080/"
        },
        "id": "vg49h0XAMdmK",
        "outputId": "abc44394-d90e-4bc1-d8f2-6fc21dedeece"
      },
      "execution_count": 9,
      "outputs": [
        {
          "output_type": "stream",
          "name": "stdout",
          "text": [
            "Number of elements in L: 6\n"
          ]
        }
      ]
    },
    {
      "cell_type": "markdown",
      "source": [
        "(vii) WAP to sum all the elements in L.\n"
      ],
      "metadata": {
        "id": "wEnH_SZZMjXz"
      }
    },
    {
      "cell_type": "code",
      "source": [
        "print(\"Sum of all elements:\", sum(L))"
      ],
      "metadata": {
        "colab": {
          "base_uri": "https://localhost:8080/"
        },
        "id": "uKAuD7uEMl6X",
        "outputId": "c953efcf-e5b9-493c-fa25-0cd8a9ff08e0"
      },
      "execution_count": 10,
      "outputs": [
        {
          "output_type": "stream",
          "name": "stdout",
          "text": [
            "Sum of all elements: 160\n"
          ]
        }
      ]
    },
    {
      "cell_type": "markdown",
      "source": [
        "(viii) WAP to sum all ODD numbers in L."
      ],
      "metadata": {
        "id": "1bqG8RzxMq3K"
      }
    },
    {
      "cell_type": "code",
      "source": [
        "sum_odd = sum(x for x in L if x % 2 != 0)\n",
        "print(\"Sum of odd numbers:\", sum_odd)"
      ],
      "metadata": {
        "colab": {
          "base_uri": "https://localhost:8080/"
        },
        "id": "qpUstNXlMu6k",
        "outputId": "07d408df-b176-4f7f-b3ef-cb6d10e39502"
      },
      "execution_count": 11,
      "outputs": [
        {
          "output_type": "stream",
          "name": "stdout",
          "text": [
            "Sum of odd numbers: 24\n"
          ]
        }
      ]
    },
    {
      "cell_type": "markdown",
      "source": [
        "(ix) WAP to sum all EVEN numbers in L."
      ],
      "metadata": {
        "id": "i94O6vq6NVyR"
      }
    },
    {
      "cell_type": "code",
      "source": [
        "sum_even = sum(x for x in L if x % 2 == 0)\n",
        "print(\"Sum of even numbers:\", sum_even)"
      ],
      "metadata": {
        "colab": {
          "base_uri": "https://localhost:8080/"
        },
        "id": "3dJsJ7TFNX9w",
        "outputId": "74e37959-1078-4dc3-abc5-02a6b4d0e05d"
      },
      "execution_count": 12,
      "outputs": [
        {
          "output_type": "stream",
          "name": "stdout",
          "text": [
            "Sum of even numbers: 136\n"
          ]
        }
      ]
    },
    {
      "cell_type": "markdown",
      "source": [
        "(x) WAP to sum all PRIME numbers in L."
      ],
      "metadata": {
        "id": "Rn3GYRuXNcjp"
      }
    },
    {
      "cell_type": "code",
      "source": [
        "def is_prime(n):\n",
        "    if n < 2:\n",
        "        return False\n",
        "    for i in range(2, int(n**0.5)+1):\n",
        "        if n % i == 0:\n",
        "            return False\n",
        "    return True\n",
        "\n",
        "sum_prime = sum(x for x in L if is_prime(x))\n",
        "print(\"Sum of prime numbers:\", sum_prime)"
      ],
      "metadata": {
        "colab": {
          "base_uri": "https://localhost:8080/"
        },
        "id": "dZYXnSVNNfIA",
        "outputId": "40616731-8de2-4835-f225-92740cb2e524"
      },
      "execution_count": 6,
      "outputs": [
        {
          "output_type": "stream",
          "name": "stdout",
          "text": [
            "Sum of prime numbers: 24\n"
          ]
        }
      ]
    },
    {
      "cell_type": "markdown",
      "source": [
        "(xi) WAP to clear all the elements in L."
      ],
      "metadata": {
        "id": "zVtBEDdI5TGi"
      }
    },
    {
      "cell_type": "code",
      "source": [
        "L.clear()\n",
        "print(\"List after clearing:\", L)\n"
      ],
      "metadata": {
        "colab": {
          "base_uri": "https://localhost:8080/"
        },
        "id": "vdWNSwpZ5Vzk",
        "outputId": "eaa0e0cd-3b8b-4948-9751-b8e2c038e714"
      },
      "execution_count": 7,
      "outputs": [
        {
          "output_type": "stream",
          "name": "stdout",
          "text": [
            "List after clearing: []\n"
          ]
        }
      ]
    },
    {
      "cell_type": "markdown",
      "source": [
        "(xii) WAP to delete L.\n"
      ],
      "metadata": {
        "id": "S89jOCEn5llN"
      }
    },
    {
      "cell_type": "code",
      "source": [
        "del L\n",
        "print(\"After delete: \",L)"
      ],
      "metadata": {
        "colab": {
          "base_uri": "https://localhost:8080/",
          "height": 165
        },
        "id": "9nkF652i5mjX",
        "outputId": "392714f9-e402-4410-a2fd-feee8276db1f"
      },
      "execution_count": 12,
      "outputs": [
        {
          "output_type": "error",
          "ename": "NameError",
          "evalue": "name 'L' is not defined",
          "traceback": [
            "\u001b[0;31m---------------------------------------------------------------------------\u001b[0m",
            "\u001b[0;31mNameError\u001b[0m                                 Traceback (most recent call last)",
            "\u001b[0;32m<ipython-input-12-1602368381>\u001b[0m in \u001b[0;36m<cell line: 0>\u001b[0;34m()\u001b[0m\n\u001b[0;32m----> 1\u001b[0;31m \u001b[0;32mdel\u001b[0m \u001b[0mL\u001b[0m\u001b[0;34m\u001b[0m\u001b[0;34m\u001b[0m\u001b[0m\n\u001b[0m\u001b[1;32m      2\u001b[0m \u001b[0mprint\u001b[0m\u001b[0;34m(\u001b[0m\u001b[0;34m\"After delete: \"\u001b[0m\u001b[0;34m,\u001b[0m\u001b[0mL\u001b[0m\u001b[0;34m)\u001b[0m\u001b[0;34m\u001b[0m\u001b[0;34m\u001b[0m\u001b[0m\n",
            "\u001b[0;31mNameError\u001b[0m: name 'L' is not defined"
          ]
        }
      ]
    },
    {
      "cell_type": "markdown",
      "source": [
        "---\n",
        "**Q2. D is a dictionary defined as D= {1:5.6, 2:7.8, 3:6.6, 4:8.7, 5:7.7}.**\n",
        "---"
      ],
      "metadata": {
        "id": "mlkj-X7H6qlK"
      }
    },
    {
      "cell_type": "markdown",
      "source": [
        "(i) WAP to add new entry in D; key=8 and value is 8.8"
      ],
      "metadata": {
        "id": "pacHaJIQ6u3o"
      }
    },
    {
      "cell_type": "code",
      "source": [
        "D = {1: 5.6, 2: 7.8, 3: 6.6, 4: 8.7, 5: 7.7}\n",
        "D[8] = 8.8\n",
        "print(\"After adding key=8:\", D)"
      ],
      "metadata": {
        "colab": {
          "base_uri": "https://localhost:8080/"
        },
        "id": "7-vecaNm612s",
        "outputId": "6e1760cf-ac32-44cf-d79b-b09573a77f72"
      },
      "execution_count": 13,
      "outputs": [
        {
          "output_type": "stream",
          "name": "stdout",
          "text": [
            "After adding key=8: {1: 5.6, 2: 7.8, 3: 6.6, 4: 8.7, 5: 7.7, 8: 8.8}\n"
          ]
        }
      ]
    },
    {
      "cell_type": "markdown",
      "source": [
        "(ii) WAP to remove key=2."
      ],
      "metadata": {
        "id": "mSazvLZg7vMM"
      }
    },
    {
      "cell_type": "code",
      "source": [
        "del D[2]\n",
        "print(\"After removing key=2:\", D)"
      ],
      "metadata": {
        "colab": {
          "base_uri": "https://localhost:8080/"
        },
        "id": "rf-54Ush7v13",
        "outputId": "6863a023-910b-4dd4-f058-c27098b02bcb"
      },
      "execution_count": 14,
      "outputs": [
        {
          "output_type": "stream",
          "name": "stdout",
          "text": [
            "After removing key=2: {1: 5.6, 3: 6.6, 4: 8.7, 5: 7.7, 8: 8.8}\n"
          ]
        }
      ]
    },
    {
      "cell_type": "markdown",
      "source": [
        "(iii) WAP to check weather 6 key is present in D."
      ],
      "metadata": {
        "id": "cK7c3NK772kT"
      }
    },
    {
      "cell_type": "code",
      "source": [
        "if 6 in D:\n",
        "  print(\"6 is present in D\")\n",
        "else:\n",
        "  print(\"6 is not present in D\")"
      ],
      "metadata": {
        "colab": {
          "base_uri": "https://localhost:8080/"
        },
        "id": "T4SngVD5746e",
        "outputId": "a8319a2f-c87e-4bb4-ba6c-1b08bef3d21a"
      },
      "execution_count": 19,
      "outputs": [
        {
          "output_type": "stream",
          "name": "stdout",
          "text": [
            "6 is not present in D\n"
          ]
        }
      ]
    },
    {
      "cell_type": "markdown",
      "source": [
        "(iv) WAP to count the number of elements present in D."
      ],
      "metadata": {
        "id": "elcMqoEp8pgJ"
      }
    },
    {
      "cell_type": "code",
      "source": [
        "length = len(D)\n",
        "print(\"Number of elements in D:\", length)"
      ],
      "metadata": {
        "colab": {
          "base_uri": "https://localhost:8080/"
        },
        "id": "MHrnjf0W8qUu",
        "outputId": "d7c74594-b2b0-4687-d97c-8cd0f5bee126"
      },
      "execution_count": 20,
      "outputs": [
        {
          "output_type": "stream",
          "name": "stdout",
          "text": [
            "Number of elements in D: 5\n"
          ]
        }
      ]
    },
    {
      "cell_type": "markdown",
      "source": [
        "(v) WAP to add all the values present D.\n"
      ],
      "metadata": {
        "id": "fpNcfZS181zw"
      }
    },
    {
      "cell_type": "code",
      "source": [
        "sum_values = sum(D.values())\n",
        "print(\"Sum of values in D:\", sum_values)\n"
      ],
      "metadata": {
        "colab": {
          "base_uri": "https://localhost:8080/"
        },
        "id": "MuDhOSh983yV",
        "outputId": "c29a4405-3b7d-477b-af16-61a0b66e07ad"
      },
      "execution_count": 21,
      "outputs": [
        {
          "output_type": "stream",
          "name": "stdout",
          "text": [
            "Sum of values in D: 37.4\n"
          ]
        }
      ]
    },
    {
      "cell_type": "markdown",
      "source": [
        "(vi) WAP to update the value of 3 to 7.1."
      ],
      "metadata": {
        "id": "IECFGBPr9FA_"
      }
    },
    {
      "cell_type": "code",
      "source": [
        "D[3]=7.1\n",
        "print(\"After updating value of 3:\", D)"
      ],
      "metadata": {
        "colab": {
          "base_uri": "https://localhost:8080/"
        },
        "id": "6VCCcHWu9Hu9",
        "outputId": "3b980828-8e73-4507-90fb-610dec4fb2a4"
      },
      "execution_count": 23,
      "outputs": [
        {
          "output_type": "stream",
          "name": "stdout",
          "text": [
            "After updating value of 3: {1: 5.6, 3: 7.1, 4: 8.7, 5: 7.7, 8: 8.8}\n"
          ]
        }
      ]
    },
    {
      "cell_type": "markdown",
      "source": [
        "(vii) WAP to clear the dictionary.\n"
      ],
      "metadata": {
        "id": "NEJfEZ0j9Q5x"
      }
    },
    {
      "cell_type": "code",
      "source": [
        "D.clear()\n",
        "print(\"After clearing D:\", D)"
      ],
      "metadata": {
        "colab": {
          "base_uri": "https://localhost:8080/"
        },
        "id": "qpFkftST9Run",
        "outputId": "0f182496-14ce-4859-d5b4-74d141e09f55"
      },
      "execution_count": 27,
      "outputs": [
        {
          "output_type": "stream",
          "name": "stdout",
          "text": [
            "After clearing D: {}\n"
          ]
        }
      ]
    },
    {
      "cell_type": "markdown",
      "source": [
        "---\n",
        "##**Q3. S1 is a set defined as S1= [10, 20, 30, 40, 50, 60].**  \n",
        "## **S2 is a set defined as S2= [40, 50, 60, 70, 80, 90].**\n",
        " ---"
      ],
      "metadata": {
        "id": "HsLhsJ029pbD"
      }
    },
    {
      "cell_type": "markdown",
      "source": [
        "(i) WAP to add 55 and 66 in Set S1.\n"
      ],
      "metadata": {
        "id": "uLsZVyC0-Dhf"
      }
    },
    {
      "cell_type": "code",
      "source": [
        "S1=[10, 20, 30, 40, 50,60]\n",
        "S2=[40, 50, 60, 70, 80, 90]\n",
        "S1.append(55)\n",
        "S1.append(66)\n",
        "print(\"After adding 55 and 66:\", S1)"
      ],
      "metadata": {
        "colab": {
          "base_uri": "https://localhost:8080/"
        },
        "id": "bzuNpVFl-E4_",
        "outputId": "95c5ae41-b6a3-469e-be45-31d2f3ca1963"
      },
      "execution_count": 29,
      "outputs": [
        {
          "output_type": "stream",
          "name": "stdout",
          "text": [
            "After adding 55 and 66: [10, 20, 30, 40, 50, 60, 55, 66]\n"
          ]
        }
      ]
    },
    {
      "cell_type": "markdown",
      "source": [
        "(ii) WAP to remove 10 and 30 from Set S1.\n"
      ],
      "metadata": {
        "id": "Stv6KXon-fxm"
      }
    },
    {
      "cell_type": "code",
      "source": [
        "S1.remove(10)\n",
        "S1.remove(30)\n",
        "print(\"After removing 10 and 30:\", S1)"
      ],
      "metadata": {
        "colab": {
          "base_uri": "https://localhost:8080/"
        },
        "id": "yQH_7JSL-gVF",
        "outputId": "260428ad-09d2-43fa-f106-c5978c7dc9f7"
      },
      "execution_count": 30,
      "outputs": [
        {
          "output_type": "stream",
          "name": "stdout",
          "text": [
            "After removing 10 and 30: [20, 40, 50, 60, 55, 66]\n"
          ]
        }
      ]
    },
    {
      "cell_type": "markdown",
      "source": [
        "(iii) WAP to check whether 40 is present in S1.\n"
      ],
      "metadata": {
        "id": "Lpb6PW9c-nG6"
      }
    },
    {
      "cell_type": "code",
      "source": [
        "if 40 in S1:\n",
        "  print(\"40 is present in S1\")\n",
        "else:\n",
        "  print(\"40 is not present in S1\")"
      ],
      "metadata": {
        "colab": {
          "base_uri": "https://localhost:8080/"
        },
        "id": "4M8XsciV-pgi",
        "outputId": "f9632193-1534-4e6d-ec67-06bf4dc1e894"
      },
      "execution_count": 31,
      "outputs": [
        {
          "output_type": "stream",
          "name": "stdout",
          "text": [
            "40 is present in S1\n"
          ]
        }
      ]
    },
    {
      "cell_type": "markdown",
      "source": [
        "(iv) WAP to find the union between S1 and S2."
      ],
      "metadata": {
        "id": "QAkftNmQ-yXK"
      }
    },
    {
      "cell_type": "code",
      "source": [
        "set1 = set(S1)\n",
        "set2 = set(S2)\n",
        "\n",
        "union_set = set1.union(set2)\n",
        "\n",
        "print(\"Union of S1 and S2:\", union_set)"
      ],
      "metadata": {
        "colab": {
          "base_uri": "https://localhost:8080/"
        },
        "id": "TGEAjcQY-0u3",
        "outputId": "a39e7c37-25fd-4014-f036-f0a550d72255"
      },
      "execution_count": 37,
      "outputs": [
        {
          "output_type": "stream",
          "name": "stdout",
          "text": [
            "Union of S1 and S2: {70, 40, 10, 80, 50, 20, 90, 60, 30}\n"
          ]
        }
      ]
    },
    {
      "cell_type": "markdown",
      "source": [
        "(v) WAP to find the intersection between S1 and S2."
      ],
      "metadata": {
        "id": "qa5HOdHfDagn"
      }
    },
    {
      "cell_type": "code",
      "source": [
        "intersection_set = set1.intersection(set2)\n",
        "print(\"Intersection of S1 and S2:\", intersection_set)"
      ],
      "metadata": {
        "colab": {
          "base_uri": "https://localhost:8080/"
        },
        "id": "v3qrtE5fDbSV",
        "outputId": "50dbc0bb-b58f-4121-dfd1-f406a9f8f84a"
      },
      "execution_count": 34,
      "outputs": [
        {
          "output_type": "stream",
          "name": "stdout",
          "text": [
            "Intersection of S1 and S2: {40, 50, 60}\n"
          ]
        }
      ]
    },
    {
      "cell_type": "markdown",
      "source": [
        "(vi) WAP to find the S1 - S2.\n"
      ],
      "metadata": {
        "id": "jbJW8TKlEfSb"
      }
    },
    {
      "cell_type": "code",
      "source": [
        "difference_set = set1 - set2\n",
        "print(\"S1 - S2:\", difference_set)"
      ],
      "metadata": {
        "colab": {
          "base_uri": "https://localhost:8080/"
        },
        "id": "TLWYB5AqEhZQ",
        "outputId": "bb7f2845-ef3b-4e33-eb24-d0cb80f5f75e"
      },
      "execution_count": 35,
      "outputs": [
        {
          "output_type": "stream",
          "name": "stdout",
          "text": [
            "S1 - S2: {10, 20, 30}\n"
          ]
        }
      ]
    },
    {
      "cell_type": "markdown",
      "source": [
        "---\n",
        "##**Q4. Write the following program.**\n",
        "\n",
        "---\n",
        "\n"
      ],
      "metadata": {
        "id": "IiIikUWLEp37"
      }
    },
    {
      "cell_type": "markdown",
      "source": [
        "(i) WAP to print 100 random strings whose length between 6 and 8.\n"
      ],
      "metadata": {
        "id": "Pz1YB8k3FuQe"
      }
    },
    {
      "cell_type": "code",
      "source": [
        "import random\n",
        "import string\n",
        "\n",
        "def gen_random_string(length):\n",
        "    letters = string.ascii_letters\n",
        "    return ''.join(random.choice(letters) for _ in range(length))\n",
        "\n",
        "for _ in range(100):\n",
        "    length = random.randint(6, 8)\n",
        "    random_string = gen_random_string(length)\n",
        "    print(random_string)"
      ],
      "metadata": {
        "colab": {
          "base_uri": "https://localhost:8080/"
        },
        "id": "8wi53SsAGMI1",
        "outputId": "295a4a67-57e6-48fb-ebb1-5c0c50e6d85d"
      },
      "execution_count": 42,
      "outputs": [
        {
          "output_type": "stream",
          "name": "stdout",
          "text": [
            "iuTDEkx\n",
            "LzLBxCt\n",
            "CaFFXUEC\n",
            "LyMHCT\n",
            "gDCMxSHq\n",
            "CxTjLLB\n",
            "SyyEobTH\n",
            "rXeAYv\n",
            "ApUPtS\n",
            "DfuecIb\n",
            "mYpQYT\n",
            "AUuJyq\n",
            "NwwWDFr\n",
            "iCQerEc\n",
            "NETxXQts\n",
            "IOqblhz\n",
            "gRoWLciT\n",
            "NQsnMFC\n",
            "DJzMHc\n",
            "qAFWeC\n",
            "YEBrKB\n",
            "rcSfmRM\n",
            "jPdkUr\n",
            "fXdxFPIX\n",
            "fZtwXn\n",
            "xJAhwIl\n",
            "fDLgWAk\n",
            "PvPbrKz\n",
            "gEKOXPS\n",
            "gmybBpz\n",
            "tDdbftlM\n",
            "qPDlLBA\n",
            "BFABkO\n",
            "qQREzvc\n",
            "mfjNHn\n",
            "WpEKGlwX\n",
            "UQdMVHp\n",
            "xvVnSeK\n",
            "SPCysRmX\n",
            "lkPfTs\n",
            "USuxOcpq\n",
            "awNWVUIX\n",
            "dcNcqR\n",
            "qeTPfkf\n",
            "CcwNFGUu\n",
            "OhfKyM\n",
            "YfTcgFy\n",
            "naCtpOhe\n",
            "zKUrOnh\n",
            "VyMBkm\n",
            "FyGmhU\n",
            "dezSLHtX\n",
            "kpxlhJf\n",
            "vhEFfgb\n",
            "mFnuhJmQ\n",
            "EKiAofNn\n",
            "IijIpLTc\n",
            "ALIBNgJ\n",
            "uFcgOn\n",
            "SgvpnFTm\n",
            "LRKNjKPX\n",
            "iDGPlvvi\n",
            "skxsgf\n",
            "hzTJUJWM\n",
            "TbxLNZE\n",
            "KyAaTOD\n",
            "TuvEymNh\n",
            "JgSbfAck\n",
            "UEpdzLe\n",
            "aBSsmT\n",
            "sDaELy\n",
            "cVrBMNwD\n",
            "maaHlWN\n",
            "MWzyzU\n",
            "RmjouXwi\n",
            "VcugfbZq\n",
            "yTFiBf\n",
            "PXaADN\n",
            "XDifod\n",
            "WeZJKWsi\n",
            "HBiMfC\n",
            "OtcFzurs\n",
            "RBVEsWVv\n",
            "VvtWAf\n",
            "MxYCYTUb\n",
            "BecORG\n",
            "SWlhFA\n",
            "gEYNrvmg\n",
            "KCsqYh\n",
            "EJpKUIbS\n",
            "CPHcWK\n",
            "zGNfsH\n",
            "lxQFmisK\n",
            "uuyjTTd\n",
            "ANYPaAiw\n",
            "pTWqrRO\n",
            "WpCcihj\n",
            "RXZVrpgH\n",
            "lMQqrYzW\n",
            "lwFcfx\n"
          ]
        }
      ]
    },
    {
      "cell_type": "markdown",
      "source": [
        "(ii) WAP to print all prime numbers between 600 and 800.\n"
      ],
      "metadata": {
        "id": "nRKgXc6LH2TK"
      }
    },
    {
      "cell_type": "code",
      "source": [
        "def is_prime(n):\n",
        "    if n <= 1:\n",
        "        return False\n",
        "    if n == 2:\n",
        "        return True\n",
        "    if n % 2 == 0:\n",
        "        return False\n",
        "    for i in range(3, int(n**0.5) + 1, 2):\n",
        "        if n % i == 0:\n",
        "            return False\n",
        "    return True\n",
        "\n",
        "print(\"Prime numbers between 600 and 800:\")\n",
        "for num in range(600, 801):\n",
        "    if is_prime(num):\n",
        "        print(num, end=\" \")"
      ],
      "metadata": {
        "colab": {
          "base_uri": "https://localhost:8080/"
        },
        "id": "v6Rh-drgINJA",
        "outputId": "7e6d2af8-784e-4684-a8f4-c21f02f8d878"
      },
      "execution_count": 43,
      "outputs": [
        {
          "output_type": "stream",
          "name": "stdout",
          "text": [
            "Prime numbers between 600 and 800:\n",
            "601 607 613 617 619 631 641 643 647 653 659 661 673 677 683 691 701 709 719 727 733 739 743 751 757 761 769 773 787 797 "
          ]
        }
      ]
    },
    {
      "cell_type": "markdown",
      "source": [
        "(iii) WAP to print all numbers between 100 and 1000 that are divisible by 7 and 9."
      ],
      "metadata": {
        "id": "jRsGQ_5bIfvn"
      }
    },
    {
      "cell_type": "code",
      "source": [
        "print(\"Numbers between 100 and 1000 divisible by 7 and 9:\")\n",
        "for num in range(100, 1001):\n",
        "    if num % 7 == 0 and num % 9 == 0:\n",
        "        print(num, end=\" \")"
      ],
      "metadata": {
        "colab": {
          "base_uri": "https://localhost:8080/"
        },
        "id": "yjb-XT5oIiUA",
        "outputId": "07772a3d-0d44-4b41-9463-773ddf4d572b"
      },
      "execution_count": 44,
      "outputs": [
        {
          "output_type": "stream",
          "name": "stdout",
          "text": [
            "Numbers between 100 and 1000 divisible by 7 and 9:\n",
            "126 189 252 315 378 441 504 567 630 693 756 819 882 945 "
          ]
        }
      ]
    },
    {
      "cell_type": "markdown",
      "source": [
        "---\n",
        "## **Q5. WAP to create two lists of 10 random numbers between 10 and 30; Find**\n",
        "---\n",
        "\n"
      ],
      "metadata": {
        "id": "CM0XrsaLImtd"
      }
    },
    {
      "cell_type": "markdown",
      "source": [
        "(i) Common numbers in the two lists\n"
      ],
      "metadata": {
        "id": "VMW0n9hwIvKh"
      }
    },
    {
      "cell_type": "code",
      "source": [
        "import random as r\n",
        "list1 = [r.randint(10, 30) for _ in range(10)]\n",
        "list2 = [r.randint(10, 30) for _ in range(10)]\n",
        "print(\"List1:\", list1)\n",
        "print(\"List2:\", list2)\n",
        "common_numbers = set(list1) & set(list2)\n",
        "print(\"Common numbers:\", common_numbers)"
      ],
      "metadata": {
        "colab": {
          "base_uri": "https://localhost:8080/"
        },
        "id": "hkqNd2B3IzKO",
        "outputId": "5aa75172-f9e5-4a90-de12-5a226a212e49"
      },
      "execution_count": 54,
      "outputs": [
        {
          "output_type": "stream",
          "name": "stdout",
          "text": [
            "List1: [24, 26, 16, 16, 17, 25, 10, 29, 27, 13]\n",
            "List2: [25, 11, 12, 18, 17, 10, 12, 25, 11, 16]\n",
            "Common numbers: {16, 17, 10, 25}\n"
          ]
        }
      ]
    },
    {
      "cell_type": "markdown",
      "source": [
        "(ii) Unique numbers in both the list\n"
      ],
      "metadata": {
        "id": "Z434zbCfKfmx"
      }
    },
    {
      "cell_type": "code",
      "source": [
        "unique_numbers = set(list1) ^ set(list2)\n",
        "print(\"Unique numbers:\", unique_numbers)"
      ],
      "metadata": {
        "colab": {
          "base_uri": "https://localhost:8080/"
        },
        "id": "g0G-jp-tKiZJ",
        "outputId": "07807cf6-f2f9-4b92-e3bf-fc1241609346"
      },
      "execution_count": 50,
      "outputs": [
        {
          "output_type": "stream",
          "name": "stdout",
          "text": [
            "Unique numbers: {11, 13, 14, 16, 19, 23, 24, 26}\n"
          ]
        }
      ]
    },
    {
      "cell_type": "markdown",
      "source": [
        "(iii) Minimum in both the list\n"
      ],
      "metadata": {
        "id": "ee-Eo5u1Kk8z"
      }
    },
    {
      "cell_type": "code",
      "source": [
        "min1 = min(list1)\n",
        "min2 = min(list2)\n",
        "print(\"Minimum number in List1:\", min1)\n",
        "print(\"Minimum number in List2:\", min2)"
      ],
      "metadata": {
        "colab": {
          "base_uri": "https://localhost:8080/"
        },
        "id": "U6iqiLPtKnAM",
        "outputId": "b9157094-01a0-4527-ee27-c89e181efcce"
      },
      "execution_count": 51,
      "outputs": [
        {
          "output_type": "stream",
          "name": "stdout",
          "text": [
            "Minimum number in List1: 11\n",
            "Minimum number in List2: 14\n"
          ]
        }
      ]
    },
    {
      "cell_type": "markdown",
      "source": [
        "(iv) Maximum in both the list"
      ],
      "metadata": {
        "id": "Yqe8mzLqKsr0"
      }
    },
    {
      "cell_type": "code",
      "source": [
        "max1 = max(list1)\n",
        "max2 = max(list2)\n",
        "print(\"Maximum number in List1:\", max1)\n",
        "print(\"Maximum number in List2:\", max2)"
      ],
      "metadata": {
        "colab": {
          "base_uri": "https://localhost:8080/"
        },
        "id": "Tu7OAs0qKtTy",
        "outputId": "ed331f4c-6fab-4c03-8270-90ec0b2a03e5"
      },
      "execution_count": 52,
      "outputs": [
        {
          "output_type": "stream",
          "name": "stdout",
          "text": [
            "Maximum number in List1: 28\n",
            "Maximum number in List2: 28\n"
          ]
        }
      ]
    },
    {
      "cell_type": "markdown",
      "source": [
        "(v) Sum of both the lists"
      ],
      "metadata": {
        "id": "kFJrYHb4K0IN"
      }
    },
    {
      "cell_type": "code",
      "source": [
        "sum1, sum2 = sum(list1), sum(list2)\n",
        "print(\"Sum of List1:\", sum1)\n",
        "print(\"Sum of List2:\", sum2)"
      ],
      "metadata": {
        "colab": {
          "base_uri": "https://localhost:8080/"
        },
        "id": "epnHHaIFK06z",
        "outputId": "4a3af5bc-1b47-47d8-c696-a7103020f83b"
      },
      "execution_count": 53,
      "outputs": [
        {
          "output_type": "stream",
          "name": "stdout",
          "text": [
            "Sum of List1: 210\n",
            "Sum of List2: 194\n"
          ]
        }
      ]
    },
    {
      "cell_type": "markdown",
      "source": [
        "---\n",
        "## **Q6. WAP to create a list of 100 random numbers between 100 and 900. Count and print the:**\n",
        "---"
      ],
      "metadata": {
        "id": "ro6WQ8ruK6ms"
      }
    },
    {
      "cell_type": "markdown",
      "source": [
        "(i) All odd numbers\n"
      ],
      "metadata": {
        "id": "yHOIcmd1K-zP"
      }
    },
    {
      "cell_type": "code",
      "source": [
        "import random as r\n",
        "numbers = [r.randint(100, 900) for _ in range(100)]\n",
        "odd_numbers = [num for num in numbers if num % 2 != 0]\n",
        "odd_count = sum(1 for num in numbers if num % 2 != 0)\n",
        "print(\"Count of odd numbers:\", odd_count)\n",
        "print(\"Odd numbers:\", odd_numbers)\n"
      ],
      "metadata": {
        "colab": {
          "base_uri": "https://localhost:8080/"
        },
        "id": "lA_eO-FPLBAX",
        "outputId": "61e18f7a-4e5b-4027-9c38-5d0d5985f877"
      },
      "execution_count": 61,
      "outputs": [
        {
          "output_type": "stream",
          "name": "stdout",
          "text": [
            "Count of odd numbers: 52\n",
            "Odd numbers: [101, 563, 289, 173, 285, 243, 591, 763, 601, 617, 897, 877, 221, 721, 519, 233, 757, 237, 273, 623, 777, 759, 189, 279, 261, 581, 761, 657, 637, 279, 133, 351, 623, 477, 109, 721, 729, 489, 893, 515, 507, 449, 239, 175, 395, 803, 695, 437, 389, 471, 219, 173]\n"
          ]
        }
      ]
    },
    {
      "cell_type": "markdown",
      "source": [
        "(ii) All even numbers"
      ],
      "metadata": {
        "id": "ZDuN9ZSgLztC"
      }
    },
    {
      "cell_type": "code",
      "source": [
        "even_count = sum(1 for num in numbers if num % 2 == 0)\n",
        "print(\"Count of even numbers:\", even_count)\n",
        "even_numbers = [num for num in numbers if num % 2 == 0]\n",
        "print(\"Even numbers:\", even_numbers)"
      ],
      "metadata": {
        "colab": {
          "base_uri": "https://localhost:8080/"
        },
        "id": "JwyQVVGlL1Ou",
        "outputId": "e3ca7c30-04ba-484a-8a76-c8583392be35"
      },
      "execution_count": 64,
      "outputs": [
        {
          "output_type": "stream",
          "name": "stdout",
          "text": [
            "Count of even numbers: 48\n",
            "Even numbers: [698, 662, 144, 500, 362, 206, 822, 822, 592, 158, 720, 690, 374, 478, 754, 630, 470, 650, 554, 854, 580, 714, 168, 430, 606, 414, 852, 208, 436, 420, 352, 342, 772, 822, 252, 646, 342, 794, 196, 162, 732, 848, 834, 466, 418, 734, 494, 816]\n"
          ]
        }
      ]
    },
    {
      "cell_type": "markdown",
      "source": [
        "(iii) All prime numbers"
      ],
      "metadata": {
        "id": "zLVA3GpPL9S1"
      }
    },
    {
      "cell_type": "code",
      "source": [
        "prime_numbers = [num for num in numbers if is_prime(num)]\n",
        "print(\"Prime numbers count: {len(prime_numbers)}\")\n",
        "print(\"Prime numbers:\", prime_numbers)"
      ],
      "metadata": {
        "colab": {
          "base_uri": "https://localhost:8080/"
        },
        "id": "-YNRiQ8NL-XY",
        "outputId": "97f9e8ad-0490-4460-fcca-4affe0dd1be2"
      },
      "execution_count": 70,
      "outputs": [
        {
          "output_type": "stream",
          "name": "stdout",
          "text": [
            "Prime numbers count: {len(prime_numbers)}\n",
            "Prime numbers: [101, 563, 173, 601, 617, 877, 233, 757, 761, 109, 449, 239, 389, 173]\n"
          ]
        }
      ]
    },
    {
      "cell_type": "markdown",
      "source": [
        "---\n",
        "###**Q7. D is a dictionary defined as D={1:\"One\",2:\"Two\",3:\"Three\",4:\"Four\", 5:\"Five\"}.WAP to read all the keys and values from dictionary and write to the file in the given below format**\n",
        "###**Key1, Value1**\n",
        "\n",
        "###**Key2, Value2**\n",
        "###**Key3, Value3**\n",
        " ---"
      ],
      "metadata": {
        "id": "gEiEooFmNPr0"
      }
    },
    {
      "cell_type": "code",
      "source": [
        "D = {1:\"One\", 2:\"Two\", 3:\"Three\", 4:\"Four\", 5:\"Five\"}\n",
        "\n",
        "with open(\"dictionary_output.txt\", \"w\") as file:\n",
        "    for key, value in D.items():\n",
        "        file.write(f\"Key{key}, Value{key}\\n\")\n",
        "\n",
        "print(\"Data written to dictionary_output.txt successfully!\")"
      ],
      "metadata": {
        "colab": {
          "base_uri": "https://localhost:8080/"
        },
        "id": "xafI4BkgN0fw",
        "outputId": "cd5fb98f-f930-4cbd-f8ab-68e486b83538"
      },
      "execution_count": 1,
      "outputs": [
        {
          "output_type": "stream",
          "name": "stdout",
          "text": [
            "Data written to dictionary_output.txt successfully!\n"
          ]
        }
      ]
    },
    {
      "cell_type": "markdown",
      "source": [
        "---\n",
        "##**Q8. L is a list defined as L={\"One\",\"Two\",\"Three\",\"Four\",\"Five\"}.WAP to count the length of reach element from a list and write to the file in the given below format:**\n",
        "##**One, 3**\n",
        "##**Two, 3**\n",
        "##**Four, 4**\n",
        "---\n"
      ],
      "metadata": {
        "id": "bX3XGpUKuq7k"
      }
    },
    {
      "cell_type": "code",
      "source": [
        "L = [\"One\", \"Two\", \"Three\", \"Four\", \"Five\"]\n",
        "with open(\"output.txt\", \"w\") as f:\n",
        "    for word in L:\n",
        "        f.write(f\"{word}, {len(word)}\\n\")\n",
        "print(\"Elements have been written to 'output.txt'\")"
      ],
      "metadata": {
        "colab": {
          "base_uri": "https://localhost:8080/"
        },
        "id": "8RIS_ZxLvGhw",
        "outputId": "7aea16ee-f7fb-4412-932c-371429bb8d9c"
      },
      "execution_count": 20,
      "outputs": [
        {
          "output_type": "stream",
          "name": "stdout",
          "text": [
            "Elements have been written to 'output.txt'\n"
          ]
        }
      ]
    },
    {
      "cell_type": "markdown",
      "source": [
        "---\n",
        "##**Q9. Write to the file 100 random strings whose length between 10 and 15.**\n",
        "---"
      ],
      "metadata": {
        "id": "fzOW1yPsv3tv"
      }
    },
    {
      "cell_type": "code",
      "source": [
        "import random as r\n",
        "import string\n",
        "\n",
        "with open(\"random_strings.txt\", \"w\") as f:\n",
        "    for _ in range(100):\n",
        "        length = r.randint(10, 15)\n",
        "        rand_str = ''.join(r.choices(string.ascii_letters + string.digits, k=length))\n",
        "        f.write(rand_str + '\\n')"
      ],
      "metadata": {
        "id": "xkLdWJCMwHol"
      },
      "execution_count": null,
      "outputs": []
    },
    {
      "cell_type": "markdown",
      "source": [
        "---\n",
        "##**Q9. Write to the file 100 random strings whose length between 10  and 15.**\n",
        "---"
      ],
      "metadata": {
        "id": "CLHDXJy2zjPX"
      }
    },
    {
      "cell_type": "code",
      "source": [
        "import random as r\n",
        "import string\n",
        "\n",
        "with open(\"random_strings.txt\", \"w\") as f:\n",
        "    for _ in range(100):\n",
        "        length = r.randint(10, 15)\n",
        "        rand_str = ''.join(r.choices(string.ascii_letters + string.digits, k=length))\n",
        "        f.write(rand_str + '\\n')\n",
        "print(\"100 random strings have been written to 'random_strings.txt'\")"
      ],
      "metadata": {
        "colab": {
          "base_uri": "https://localhost:8080/"
        },
        "id": "QrrtlWC_zetw",
        "outputId": "d86fc984-b20c-44d4-eaae-72b91690af16"
      },
      "execution_count": 21,
      "outputs": [
        {
          "output_type": "stream",
          "name": "stdout",
          "text": [
            "100 random strings have been written to 'random_strings.txt'\n"
          ]
        }
      ]
    },
    {
      "cell_type": "markdown",
      "source": [
        "---\n",
        "## **Q10. Write to the file all prime numbers between 600 and 800.**\n",
        "---"
      ],
      "metadata": {
        "id": "fw67zH8KzyzG"
      }
    },
    {
      "cell_type": "code",
      "source": [
        "def is_prime(n):\n",
        "    if n < 2:\n",
        "        return False\n",
        "    for i in range(2, int(n**0.5)+1):\n",
        "        if n % i == 0:\n",
        "            return False\n",
        "    return True\n",
        "\n",
        "with open(\"prime_600_800.txt\", \"w\") as f:\n",
        "    for num in range(600, 801):\n",
        "        if is_prime(num):\n",
        "            f.write(str(num) + '\\n')\n",
        "print(\"Results are in prime_600_800.txt \")"
      ],
      "metadata": {
        "colab": {
          "base_uri": "https://localhost:8080/"
        },
        "id": "l57lgRGhz76A",
        "outputId": "702b3f98-281c-4dea-b031-515bb0102800"
      },
      "execution_count": 24,
      "outputs": [
        {
          "output_type": "stream",
          "name": "stdout",
          "text": [
            "Results are in prime_600_800.txt \n"
          ]
        }
      ]
    },
    {
      "cell_type": "markdown",
      "source": [
        "---\n",
        "## **Q11. WAP to calculate the time taken by a program.**\n",
        "---"
      ],
      "metadata": {
        "id": "iCanYheG0dv_"
      }
    },
    {
      "cell_type": "code",
      "source": [
        "import time\n",
        "\n",
        "\n",
        "start = time.time()\n",
        "\n",
        "\n",
        "total = 0\n",
        "for i in range(1, 1000000):\n",
        "    total += i\n",
        "\n",
        "\n",
        "end = time.time()\n",
        "\n",
        "print(\"Time taken by the program:\", end - start, \"seconds\")\n"
      ],
      "metadata": {
        "colab": {
          "base_uri": "https://localhost:8080/"
        },
        "id": "2mRo87yb0pag",
        "outputId": "6e792a43-2832-4773-810c-e2df69f05a35"
      },
      "execution_count": 25,
      "outputs": [
        {
          "output_type": "stream",
          "name": "stdout",
          "text": [
            "Time taken by the program: 0.11837077140808105 seconds\n"
          ]
        }
      ]
    },
    {
      "cell_type": "markdown",
      "source": [
        "Q12. WAP to sort following number of elements in a list, calculate time taken and plot the graph"
      ],
      "metadata": {
        "id": "y98uSN7004ze"
      }
    },
    {
      "cell_type": "code",
      "source": [
        "import random\n",
        "import time\n",
        "import matplotlib.pyplot as plt\n",
        "\n",
        "list_sizes = [5000, 10000, 15000, 20000, 25000]\n",
        "times = []\n",
        "\n",
        "for size in list_sizes:\n",
        "    nums = [random.randint(1, 100000) for _ in range(size)]\n",
        "    start_time = time.time()\n",
        "    sorted_nums = sorted(nums)\n",
        "    end_time = time.time()\n",
        "    duration = end_time - start_time\n",
        "    times.append(duration)\n",
        "    print(f\"Sorted {size} elements in {duration:.6f} seconds\")\n",
        "\n",
        "plt.plot(list_sizes, times, marker='o', color='blue', linestyle='--')\n",
        "plt.title(\"List Size vs Sort Time\")\n",
        "plt.xlabel(\"Number of Elements in List\")\n",
        "plt.ylabel(\"Time Taken (seconds)\")\n",
        "plt.grid(True)\n",
        "plt.show()"
      ],
      "metadata": {
        "colab": {
          "base_uri": "https://localhost:8080/",
          "height": 563
        },
        "id": "Fbi34djF04Uq",
        "outputId": "f0cf5cc2-4228-4bf4-e9b2-314f7026ed2d"
      },
      "execution_count": 33,
      "outputs": [
        {
          "output_type": "stream",
          "name": "stdout",
          "text": [
            "Sorted 5000 elements in 0.001109 seconds\n",
            "Sorted 10000 elements in 0.002778 seconds\n",
            "Sorted 15000 elements in 0.004214 seconds\n",
            "Sorted 20000 elements in 0.006047 seconds\n",
            "Sorted 25000 elements in 0.008772 seconds\n"
          ]
        },
        {
          "output_type": "display_data",
          "data": {
            "text/plain": [
              "<Figure size 640x480 with 1 Axes>"
            ],
            "image/png": "[encoded data removed]"
          },
          "metadata": {}
        }
      ]
    },
    {
      "cell_type": "markdown",
      "source": [
        "---\n",
        "##**Q13. WAP to create a dictionary of student marks in five subjects and you have to find the student having maximum and minimum average marks.**\n",
        "---"
      ],
      "metadata": {
        "id": "SAxAp0ZX1ZjP"
      }
    },
    {
      "cell_type": "code",
      "source": [
        "# Dictionary of student marks: {student_name: [marks in 5 subjects]}\n",
        "students = {\n",
        "    \"Alice\": [85, 92, 78, 88, 91],\n",
        "    \"Bob\": [75, 80, 79, 85, 82],\n",
        "    \"Charlie\": [90, 95, 94, 89, 93],\n",
        "    \"David\": [65, 70, 60, 72, 68],\n",
        "    \"Eva\": [88, 84, 79, 91, 86]\n",
        "}\n",
        "\n",
        "# To store total marks\n",
        "total_marks = {}\n",
        "\n",
        "# Calculate total marks for each student\n",
        "for name, marks in students.items():\n",
        "    total = sum(marks)\n",
        "    total_marks[name] = total\n",
        "\n",
        "# Find the student with the highest total\n",
        "top_student = max(total_marks, key=total_marks.get)\n",
        "top_score = total_marks[top_student]\n",
        "\n",
        "# Output\n",
        "print(\"Total Marks of Students:\")\n",
        "for name, total in total_marks.items():\n",
        "    print(f\"{name}: {total}\")\n",
        "\n",
        "print(f\"\\nTop student: {top_student} with {top_score} marks\")\n"
      ],
      "metadata": {
        "colab": {
          "base_uri": "https://localhost:8080/"
        },
        "id": "QJnsQb4x2Dwf",
        "outputId": "242fe0cf-50c8-44cf-90b7-3124b4cd54e2"
      },
      "execution_count": 31,
      "outputs": [
        {
          "output_type": "stream",
          "name": "stdout",
          "text": [
            "Total Marks of Students:\n",
            "Alice: 434\n",
            "Bob: 401\n",
            "Charlie: 461\n",
            "David: 335\n",
            "Eva: 428\n",
            "\n",
            "Top student: Charlie with 461 marks\n"
          ]
        }
      ]
    }
  ]
}