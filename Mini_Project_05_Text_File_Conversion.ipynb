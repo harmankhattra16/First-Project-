{
  "nbformat": 4,
  "nbformat_minor": 0,
  "metadata": {
    "colab": {
      "provenance": [],
      "authorship_tag": "ABX9TyPb4RZAm/dcj7g1/kfQjtcD",
      "include_colab_link": true
    },
    "kernelspec": {
      "name": "python3",
      "display_name": "Python 3"
    },
    "language_info": {
      "name": "python"
    }
  },
  "cells": [
    {
      "cell_type": "markdown",
      "metadata": {
        "id": "view-in-github",
        "colab_type": "text"
      },
      "source": [
        "<a href=\"https://colab.research.google.com/github/harmankhattra16/First-Project-/blob/main/Mini_Project_05_Text_File_Conversion.ipynb\" target=\"_parent\"><img src=\"https://colab.research.google.com/assets/colab-badge.svg\" alt=\"Open In Colab\"/></a>"]
    },
    {
      "cell_type": "code",
      "execution_count": 1,
      "metadata": {
        "colab": {
          "base_uri": "https://localhost:8080/",
          "height": 490
        },
        "id": "qr5PkPAYwUdX",
        "outputId": "939cd737-e3b8-49ac-d477-069f981ece05"
      },
      "outputs": [
        {
          "output_type": "execute_result",
          "data": {
            "text/plain": [
              "Text(0.5, 1.0, 'Performance of different programming languages')"
            ]
          },
          "metadata": {},
          "execution_count": 1
        },
        {
          "output_type": "display_data",
          "data": {
            "text/plain": [
              "<Figure size 640x480 with 1 Axes>"
            ],
            "image/png": "C:\Users\HP\Desktop\download.png"\n"
          },
          "metadata": {}
        }
      ],
      "source": [
        "import matplotlib.pyplot as plt\n",
        "import seaborn as sns\n",
        "x  = [1, 2, 3, 4, 5]\n",
        "y1 = [12, 20, 34, 45, 55]\n",
        "y2 = [15, 25, 36, 50, 60]\n",
        "y3 = [18, 30, 40, 55, 70]\n",
        "y4 = [25, 40, 53, 75, 100]\n",
        "pics = sns.lineplot(x = x, y = y1, label='C', linewidth=2)\n",
        "sns.lineplot(x = x, y = y2, label='C++', linewidth=1)\n",
        "sns.lineplot(x = x, y = y3, label='Java', linewidth=3)\n",
        "sns.lineplot(x = x, y = y4, label='Python', linewidth=2)\n",
        "pics.set_xlabel('File size(GB)')\n",
        "pics.set_xlabel('Time Taken(sec)')\n",
        "pics.set_title('Performance of different programming languages')"
      ]
    }
  ]
}
